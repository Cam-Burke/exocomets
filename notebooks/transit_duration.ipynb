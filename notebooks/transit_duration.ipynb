{
 "cells": [
  {
   "cell_type": "markdown",
   "id": "dcf2e685",
   "metadata": {},
   "source": [
    "# Transit duration"
   ]
  },
  {
   "cell_type": "markdown",
   "id": "d5fd52d3",
   "metadata": {},
   "source": [
    "In this notebook we calculate an estimate for the maximum duration of transit."
   ]
  },
  {
   "cell_type": "markdown",
   "id": "155284be",
   "metadata": {},
   "source": [
    "The maximum duration of a transit, $\\Delta T$, for a single object on a near parabolic orbit is given by the equation:"
   ]
  },
  {
   "cell_type": "markdown",
   "id": "067d1fb5",
   "metadata": {},
   "source": [
    "$\\Delta T \\lesssim {\\sqrt{2} R_*}/{\\sqrt{q \\times dv_r/dt}}$"
   ]
  },
  {
   "cell_type": "markdown",
   "id": "8d70e224",
   "metadata": {},
   "source": [
    "where $\\Delta T$ is the maximum transit duration, $R_*$ the radius of the star, $q$ the periastron distance and $dv_r/dt$ the acceleration."
   ]
  },
  {
   "cell_type": "markdown",
   "id": "056b3cfd",
   "metadata": {},
   "source": [
    "We use the results from the 2018-03-17 data (distance from comet to star and acceleration) to calculate the maximum transit duration."
   ]
  },
  {
   "cell_type": "code",
   "execution_count": 1,
   "id": "c4938b21",
   "metadata": {},
   "outputs": [],
   "source": [
    "import math as m\n",
    "import numpy as np\n",
    "from astropy import units as u\n",
    "from astropy import constants as const\n",
    "import matplotlib.pyplot as plt\n",
    "from scipy.optimize import fsolve\n",
    "\n",
    "def w_ave(x, xerr):\n",
    "    # Given an array of values and corresponding uncertainty\n",
    "    # we can use this function to calculate the weighted average.\n",
    "    weights = 1./(xerr**2)\n",
    "    w_ave   = np.average(x, axis=0, weights=weights)\n",
    "    uncertainty = 1/np.sum(weights)*np.sqrt(np.sum((weights*xerr)**2))\n",
    "    return w_ave, uncertainty"
   ]
  },
  {
   "cell_type": "code",
   "execution_count": 2,
   "id": "bc7a6eb5",
   "metadata": {},
   "outputs": [
    {
     "name": "stdout",
     "output_type": "stream",
     "text": [
      "Distance from star: 7.6 ± 1.7 R*\n",
      "Confidence: 4.4 sigma\n",
      "\n",
      "Acceleration: 2.4 ± 0.6 m/s^2\n",
      "Confidence: 4.3 sigma\n"
     ]
    }
   ],
   "source": [
    "dist        = np.array([8.3,7.1])\n",
    "dist_err    = np.array([2.8,2.2])\n",
    "\n",
    "dvdt        = np.array([2.1,2.9])\n",
    "dvdt_err    = np.array([0.7,0.9])\n",
    "\n",
    "dist_w_ave, dist_uncertainty = w_ave(dist, dist_err)\n",
    "dvdt_w_ave, dvdt_uncertainty = w_ave(dvdt, dvdt_err)\n",
    "\n",
    "print(\"Distance from star:\",round(dist_w_ave,1),\"±\",round(dist_uncertainty,1),\"R*\")\n",
    "print(\"Confidence:\",round(dist_w_ave/dist_uncertainty,1),\"sigma\")\n",
    "\n",
    "print(\"\\nAcceleration:\",round(dvdt_w_ave,1),\"±\",round(dvdt_uncertainty,1),\"m/s^2\")\n",
    "print(\"Confidence:\",round(dvdt_w_ave/dvdt_uncertainty,1),\"sigma\")"
   ]
  },
  {
   "cell_type": "code",
   "execution_count": 3,
   "id": "dd58a277",
   "metadata": {},
   "outputs": [],
   "source": [
    "R = 1.8*const.R_sun # The radius of beta Pic\n",
    "q = dist_w_ave*R #\n",
    "dvdt = dvdt_w_ave*u.meter/u.second**2"
   ]
  },
  {
   "cell_type": "code",
   "execution_count": 4,
   "id": "80b538ae",
   "metadata": {},
   "outputs": [
    {
     "name": "stdout",
     "output_type": "stream",
     "text": [
      "Maximum transit duration: 3.3 ± 0.2 hours\n"
     ]
    }
   ],
   "source": [
    "dT = np.sqrt(2)*R/np.sqrt(q*dvdt)\n",
    "dT_err = 1./(np.sqrt((dist_w_ave/dist_uncertainty))+np.sqrt(dvdt_w_ave/dvdt_uncertainty))\n",
    "print(\"Maximum transit duration:\",round(dT.to(u.hour).value,1),\"±\",round(dT_err,1),\"hours\")"
   ]
  },
  {
   "cell_type": "markdown",
   "id": "9eed79d8",
   "metadata": {},
   "source": [
    "A exocometary feature is first seen at 04:37:42 and lasting until the end of observations at 07:48:43. A difference of 3 h 11 min. We estimate that the transit duration should at most last ~ 3 h 12 min. It is such a shame we were not able to observe for another 30 min to an hour. We may have caught the end of the transit perhaps!"
   ]
  },
  {
   "cell_type": "markdown",
   "id": "49fc237d",
   "metadata": {},
   "source": [
    "## Calculating the periastron distance and longitude"
   ]
  },
  {
   "cell_type": "markdown",
   "id": "9b1e93cb",
   "metadata": {},
   "source": [
    "For this calculation we use equations (22) from Kiefer et al. (2014)."
   ]
  },
  {
   "cell_type": "markdown",
   "id": "25493577",
   "metadata": {},
   "source": [
    "Periastron distance and longitude. Assuming that each exocomet exhibits a near parabolic orbit, an estimate of the distance to the star, together with the measurement of the radial velocity at the time of the transit, allows an estimation of the periastron orientation and distance. We define $\\bar{\\omega}$ to be the longitude of the periastron, which is the true anomaly of the line of sight with respect to the exocomet's periastron, and $Q$ to be the periastron distance in units of stellar radius, $R_\\star$ . These two quantities can be expressed with respect to the distance and the radial velocity by solving:\n",
    "\n",
    "$$v_r = \\sqrt{\\frac{GM_\\star}{R_\\star d}}\\frac{sin\\bar{\\omega}}{\\sqrt{1+cos\\bar{\\omega}}}$$\n",
    "\n",
    "and\n",
    "\n",
    "$$d=\\frac{2Q}{1+cos\\omega}$$"
   ]
  },
  {
   "cell_type": "code",
   "execution_count": 20,
   "id": "21e3b16b",
   "metadata": {},
   "outputs": [],
   "source": [
    "G = const.G\n",
    "M = 2*const.M_sun\n",
    "v = 140 * u.km / u.second\n",
    "d = dist_w_ave"
   ]
  },
  {
   "cell_type": "code",
   "execution_count": 21,
   "id": "daf07b2d",
   "metadata": {},
   "outputs": [
    {
     "name": "stdout",
     "output_type": "stream",
     "text": [
      "[0.15658803]\n"
     ]
    },
    {
     "data": {
      "image/png": "[encoded data removed]",
      "text/plain": [
       "<Figure size 432x288 with 1 Axes>"
      ]
     },
     "metadata": {
      "needs_background": "light"
     },
     "output_type": "display_data"
    }
   ],
   "source": [
    "\n",
    "\n",
    "func = lambda omega : v - (np.sqrt(G*M/R*d)*np.sin(omega)/np.sqrt(1 + np.cos(omega)))\n",
    "\n",
    "omega = np.arange(0,1,0.01)\n",
    "\n",
    "initial_guess = 0.2\n",
    "\n",
    "omega_solution = fsolve(func, initial_guess)\n",
    "\n",
    "plt.plot(omega, func(omega))\n",
    "\n",
    "print(omega_solution)"
   ]
  },
  {
   "cell_type": "code",
   "execution_count": 22,
   "id": "e77d41f7",
   "metadata": {},
   "outputs": [
    {
     "name": "stdout",
     "output_type": "stream",
     "text": [
      "[7.60456461]\n"
     ]
    }
   ],
   "source": [
    "print(2*dist_w_ave/(1+np.cos(omega_solution)))"
   ]
  },
  {
   "cell_type": "code",
   "execution_count": 23,
   "id": "cf1346f5",
   "metadata": {},
   "outputs": [
    {
     "name": "stdout",
     "output_type": "stream",
     "text": [
      "134.12116188465725 m / s\n"
     ]
    }
   ],
   "source": [
    "omega = 0.15\n",
    "print(np.sqrt(G*M/R*d)*np.sin(omega)/np.sqrt(1 + np.cos(omega))/1e3)"
   ]
  },
  {
   "cell_type": "code",
   "execution_count": null,
   "id": "9e2402b3",
   "metadata": {},
   "outputs": [],
   "source": []
  }
 ],
 "metadata": {
  "kernelspec": {
   "display_name": "Python 3 (ipykernel)",
   "language": "python",
   "name": "python3"
  },
  "language_info": {
   "codemirror_mode": {
    "name": "ipython",
    "version": 3
   },
   "file_extension": ".py",
   "mimetype": "text/x-python",
   "name": "python",
   "nbconvert_exporter": "python",
   "pygments_lexer": "ipython3",
   "version": "3.10.2"
  }
 },
 "nbformat": 4,
 "nbformat_minor": 5
}
