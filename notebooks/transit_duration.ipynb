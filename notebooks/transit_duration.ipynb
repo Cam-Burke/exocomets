{
 "cells": [
  {
   "cell_type": "markdown",
   "id": "dcf2e685",
   "metadata": {},
   "source": [
    "# Transit duration"
   ]
  },
  {
   "cell_type": "markdown",
   "id": "d5fd52d3",
   "metadata": {},
   "source": [
    "In this notebook we calculate an estimate for the maximum duration of transit."
   ]
  },
  {
   "cell_type": "markdown",
   "id": "155284be",
   "metadata": {},
   "source": [
    "The maximum duration of a transit, $\\Delta T$, for a single object on a near parabolic orbit is given by the equation:"
   ]
  },
  {
   "cell_type": "markdown",
   "id": "067d1fb5",
   "metadata": {},
   "source": [
    "$\\Delta T \\lesssim {\\sqrt{2} R_*}/{\\sqrt{Q \\times dv_r/dt}}$"
   ]
  },
  {
   "cell_type": "markdown",
   "id": "8d70e224",
   "metadata": {},
   "source": [
    "where $\\Delta T$ is the maximum transit duration, $R_*$ the radius of the star, $Q$ the periastron distance and $dv_r/dt$ the acceleration.\n",
    "\n",
    "To do this calculation we need $Q$. The acceleration $dv_r/dt$ we get from our fit to the data. "
   ]
  },
  {
   "cell_type": "markdown",
   "id": "49fc237d",
   "metadata": {},
   "source": [
    "## Calculating the periastron distance and longitude"
   ]
  },
  {
   "cell_type": "markdown",
   "id": "25493577",
   "metadata": {},
   "source": [
    "Periastron distance and longitude. Assuming that each exocomet exhibits a near parabolic orbit, an estimate of the distance to the star, together with the measurement of the radial velocity at the time of the transit, allows an estimation of the periastron orientation and distance. We define $\\bar{\\omega}$ to be the longitude of the periastron, which is the true anomaly of the line of sight with respect to the exocomet's periastron, and $Q$ to be the periastron distance in units of stellar radius, $R_\\star$ . These two quantities can be expressed with respect to the distance and the radial velocity by solving:\n",
    "\n",
    "$$v_r = \\sqrt{\\frac{GM_\\star}{d R_\\star}}\\frac{sin\\bar{\\omega}}{\\sqrt{1+cos\\bar{\\omega}}}$$\n",
    "\n",
    "and\n",
    "\n",
    "$$d=\\frac{2Q}{1+cos\\omega}$$"
   ]
  },
  {
   "cell_type": "markdown",
   "id": "9b1e93cb",
   "metadata": {},
   "source": [
    "For this calculation we use equations (22) from Kiefer et al. (2014)."
   ]
  },
  {
   "cell_type": "code",
   "execution_count": 1,
   "id": "c4938b21",
   "metadata": {},
   "outputs": [],
   "source": [
    "import math as m\n",
    "import numpy as np\n",
    "from astropy import units as u\n",
    "from astropy import constants as const\n",
    "import matplotlib.pyplot as plt\n",
    "from scipy.optimize import fsolve\n",
    "\n",
    "def w_ave(x, xerr):\n",
    "    # Given an array of values and corresponding uncertainty\n",
    "    # we can use this function to calculate the weighted average.\n",
    "    weights = 1./(xerr**2)\n",
    "    w_ave   = np.average(x, axis=0, weights=weights)\n",
    "    uncertainty = 1/np.sum(weights)*np.sqrt(np.sum((weights*xerr)**2))\n",
    "    return w_ave, uncertainty"
   ]
  },
  {
   "cell_type": "code",
   "execution_count": 2,
   "id": "21e3b16b",
   "metadata": {},
   "outputs": [],
   "source": [
    "R = 1.8*const.R_sun # The radius of beta Pic\n",
    "G = const.G # Gravitational constant\n",
    "M = 2*const.M_sun # The mass of beta Pic\n",
    "v = 140 * u.km / u.second # From our data\n",
    "d = 9.3*R # From our data (calculated using a = GM/d^2)\n",
    "d_uncertainty = 3.1*R # From our data\n",
    "dvdt = 1.7*u.meter/u.second**2 # From our data (calculated by measuring the slope of speed vs time)\n",
    "dvdt_uncertainty = 0.6*u.meter/u.second**2 # From our data"
   ]
  },
  {
   "cell_type": "code",
   "execution_count": 15,
   "id": "daf07b2d",
   "metadata": {},
   "outputs": [
    {
     "name": "stdout",
     "output_type": "stream",
     "text": [
      "omega = 1.43\n"
     ]
    },
    {
     "data": {
      "image/png": "[encoded data removed]",
      "text/plain": [
       "<Figure size 432x288 with 1 Axes>"
      ]
     },
     "metadata": {
      "needs_background": "light"
     },
     "output_type": "display_data"
    }
   ],
   "source": [
    "# We solve the quation for vr given above\n",
    "\n",
    "func = lambda omega : v - (np.sqrt(G*M/(d))*np.sin(omega)/np.sqrt(1 + np.cos(omega)))\n",
    "\n",
    "omega = np.arange(0,2,0.01)\n",
    "\n",
    "initial_guess = 1.2\n",
    "\n",
    "omega_solution = fsolve(func, initial_guess)[0]\n",
    "\n",
    "plt.plot(omega, func(omega))\n",
    "print(\"omega =\",round(omega_solution,2))"
   ]
  },
  {
   "cell_type": "code",
   "execution_count": 17,
   "id": "8b6cb842",
   "metadata": {},
   "outputs": [
    {
     "name": "stdout",
     "output_type": "stream",
     "text": [
      "Q = 5.3 R*\n"
     ]
    }
   ],
   "source": [
    "Q = (d*(1+np.cos(omega_solution))/2.)\n",
    "print(\"Q =\",round((Q/R).value,2),\"R*\")"
   ]
  },
  {
   "cell_type": "code",
   "execution_count": 18,
   "id": "b723c3d2",
   "metadata": {},
   "outputs": [
    {
     "name": "stdout",
     "output_type": "stream",
     "text": [
      "Dist confidence: 3.0 sigma\n",
      "Acceleration confidence: 2.8 sigma\n"
     ]
    }
   ],
   "source": [
    "print(\"Dist confidence:\",round((d/d_uncertainty).value,1),\"sigma\")\n",
    "print(\"Acceleration confidence:\",round((dvdt/dvdt_uncertainty).value,1),\"sigma\")"
   ]
  },
  {
   "cell_type": "code",
   "execution_count": 11,
   "id": "169e0500",
   "metadata": {},
   "outputs": [
    {
     "name": "stdout",
     "output_type": "stream",
     "text": [
      "Maximum transit duration: 4.6 ± 0.3 hours\n"
     ]
    }
   ],
   "source": [
    "dT = np.sqrt(2)*R/np.sqrt(Q*dvdt)\n",
    "dT_err = 1./(np.sqrt((d/d_uncertainty))+np.sqrt(dvdt/dvdt_uncertainty))\n",
    "print(\"Maximum transit duration:\",round(dT.to(u.hour).value,1),\"±\",round(dT_err.value,1),\"hours\")"
   ]
  },
  {
   "cell_type": "markdown",
   "id": "22cad987",
   "metadata": {},
   "source": [
    "### Should you want to do a weighted average you can use the following:"
   ]
  },
  {
   "cell_type": "code",
   "execution_count": null,
   "id": "bc7a6eb5",
   "metadata": {},
   "outputs": [],
   "source": [
    "dist        = np.array([8.3,7.1])\n",
    "dist_err    = np.array([2.8,2.2])\n",
    "\n",
    "dvdt        = np.array([2.1,2.9])\n",
    "dvdt_err    = np.array([0.7,0.9])\n",
    "\n",
    "dist_w_ave, dist_uncertainty = w_ave(dist, dist_err)\n",
    "dvdt_w_ave, dvdt_uncertainty = w_ave(dvdt, dvdt_err)\n",
    "\n",
    "print(\"Distance from star:\",round(dist_w_ave,1),\"±\",round(dist_uncertainty,1),\"R*\")\n",
    "print(\"Confidence:\",round(dist_w_ave/dist_uncertainty,1),\"sigma\")\n",
    "\n",
    "print(\"\\nAcceleration:\",round(dvdt_w_ave,1),\"±\",round(dvdt_uncertainty,1),\"m/s^2\")\n",
    "print(\"Confidence:\",round(dvdt_w_ave/dvdt_uncertainty,1),\"sigma\")"
   ]
  }
 ],
 "metadata": {
  "kernelspec": {
   "display_name": "Python 3 (ipykernel)",
   "language": "python",
   "name": "python3"
  },
  "language_info": {
   "codemirror_mode": {
    "name": "ipython",
    "version": 3
   },
   "file_extension": ".py",
   "mimetype": "text/x-python",
   "name": "python",
   "nbconvert_exporter": "python",
   "pygments_lexer": "ipython3",
   "version": "3.10.2"
  }
 },
 "nbformat": 4,
 "nbformat_minor": 5
}
