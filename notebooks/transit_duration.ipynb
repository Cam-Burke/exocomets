{
 "cells": [
  {
   "cell_type": "markdown",
   "id": "dcf2e685",
   "metadata": {},
   "source": [
    "# Transit duration"
   ]
  },
  {
   "cell_type": "markdown",
   "id": "155284be",
   "metadata": {},
   "source": [
    "The maximum duration of a transit, $\\Delta T$, for a single object on a near parabolic orbit is given by the equation:"
   ]
  },
  {
   "cell_type": "markdown",
   "id": "067d1fb5",
   "metadata": {},
   "source": [
    "$\\Delta T \\lesssim {\\sqrt{2} R_*}/{\\sqrt{q \\times dv_r/dt}}$"
   ]
  },
  {
   "cell_type": "markdown",
   "id": "056b3cfd",
   "metadata": {},
   "source": [
    "We use the results from the 2018-03-17 data to calculate the transit duration."
   ]
  },
  {
   "cell_type": "code",
   "execution_count": 64,
   "id": "c4938b21",
   "metadata": {},
   "outputs": [],
   "source": [
    "import numpy as np\n",
    "from astropy import units as u\n",
    "from astropy import constants as const\n",
    "\n",
    "def w_ave(x, xerr):\n",
    "    weights = 1./(xerr**2)\n",
    "    w_ave   = np.average(x, axis=0, weights=weights)\n",
    "    uncertainty = 1/np.sum(weights)*np.sqrt(np.sum((weights*xerr)**2))\n",
    "    return w_ave, uncertainty\n",
    "    "
   ]
  },
  {
   "cell_type": "code",
   "execution_count": 65,
   "id": "bc7a6eb5",
   "metadata": {},
   "outputs": [
    {
     "name": "stdout",
     "output_type": "stream",
     "text": [
      "Distance from star: 7.6 ± 2.3 R*\n",
      "Confidence: 3.3 sigma\n",
      "\n",
      "Acceleration: 2.2 ± 0.7 m/s^2\n",
      "Confidence: 3.2 sigma\n"
     ]
    }
   ],
   "source": [
    "dist        = np.array([9.0,7.1])\n",
    "dist_err    = np.array([4.3,2.7])\n",
    "\n",
    "dvdt        = np.array([1.8,2.9])\n",
    "dvdt_err    = np.array([0.9,1.1])\n",
    "\n",
    "dist_w_ave, dist_uncertainty = w_ave(dist, dist_err)\n",
    "dvdt_w_ave, dvdt_uncertainty = w_ave(dvdt, dvdt_err)\n",
    "\n",
    "print(\"Distance from star:\",round(dist_w_ave,1),\"±\",round(dist_uncertainty,1),\"R*\")\n",
    "print(\"Confidence:\",round(dist_w_ave/dist_uncertainty,1),\"sigma\")\n",
    "\n",
    "print(\"\\nAcceleration:\",round(dvdt_w_ave,1),\"±\",round(dvdt_uncertainty,1),\"m/s^2\")\n",
    "print(\"Confidence:\",round(dvdt_w_ave/dvdt_uncertainty,1),\"sigma\")"
   ]
  },
  {
   "cell_type": "code",
   "execution_count": 66,
   "id": "dd58a277",
   "metadata": {},
   "outputs": [],
   "source": [
    "R = 1.8*const.R_sun\n",
    "q = dist_w_ave*R\n",
    "dvdt = dvdt_w_ave*u.meter/u.second**2"
   ]
  },
  {
   "cell_type": "code",
   "execution_count": 67,
   "id": "80b538ae",
   "metadata": {},
   "outputs": [
    {
     "name": "stdout",
     "output_type": "stream",
     "text": [
      "Maximum transit duration: 3.4 ± 0.3 hours\n"
     ]
    }
   ],
   "source": [
    "dT = np.sqrt(2)*R/np.sqrt(q*dvdt)\n",
    "dT_err = 1./(np.sqrt((dist_w_ave/dist_uncertainty))+np.sqrt(dvdt_w_ave/dvdt_uncertainty))\n",
    "print(\"Maximum transit duration:\",round(dT.to(u.hour).value,1),\"±\",round(dT_err,1),\"hours\")"
   ]
  },
  {
   "cell_type": "markdown",
   "id": "9eed79d8",
   "metadata": {},
   "source": [
    "A exocometary feature is first seen at 04:37:42 and lasting until the end of observations at 07:48:43. A difference of 3 h 11 min. We estimate that the transit duration should at most last 3 h 24 min. It is such a shame we were not able to observe for another 30 min to an hour. We could have caught the end of the transit perhaps!"
   ]
  },
  {
   "cell_type": "code",
   "execution_count": null,
   "id": "2bb1b1bd",
   "metadata": {},
   "outputs": [],
   "source": []
  }
 ],
 "metadata": {
  "kernelspec": {
   "display_name": "Python 3 (ipykernel)",
   "language": "python",
   "name": "python3"
  },
  "language_info": {
   "codemirror_mode": {
    "name": "ipython",
    "version": 3
   },
   "file_extension": ".py",
   "mimetype": "text/x-python",
   "name": "python",
   "nbconvert_exporter": "python",
   "pygments_lexer": "ipython3",
   "version": "3.10.2"
  }
 },
 "nbformat": 4,
 "nbformat_minor": 5
}
